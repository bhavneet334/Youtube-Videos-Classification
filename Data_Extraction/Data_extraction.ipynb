{
 "cells": [
  {
   "cell_type": "code",
   "execution_count": 1,
   "metadata": {},
   "outputs": [],
   "source": [
    "import pandas as pd \n",
    "from youtube_videos import youtube_search\n",
    "import requests\n",
    "import pickle as pk\n",
    "from bs4 import BeautifulSoup as bs"
   ]
  },
  {
   "cell_type": "code",
   "execution_count": 2,
   "metadata": {},
   "outputs": [],
   "source": [
    "categories=[\"Travel Blogs\",\"Science and Technology\",\"Food\",\"Manufacturing\",\"History\",\"Art and Music\"]"
   ]
  },
  {
   "cell_type": "code",
   "execution_count": 3,
   "metadata": {},
   "outputs": [],
   "source": [
    "min_data=1700\n",
    "\n",
    "def get_videos_links(categories):\n",
    "    videos=[]\n",
    "    for cat in categories[:]:\n",
    "        k=0\n",
    "        token=None\n",
    "        while k<min_data:\n",
    "            vid_data= youtube_search(cat,token=token)\n",
    "            token=vid_data[0]\n",
    "            if len(vid_data[1]) == 0:\n",
    "                break\n",
    "            k+=len(vid_data[1])\n",
    "\n",
    "            for i in vid_data[1]:\n",
    "                videos.append((i['id']['videoId'],cat))\n",
    "        print(cat,\" total_videos: \",k)\n",
    "    return videos\n",
    "\n",
    "def extract_data(videos_links,min_data):\n",
    "    file=[]\n",
    "    k=0\n",
    "    cat=\"\"\n",
    "    for vid in videos_links:\n",
    "        if cat!= vid[1]:\n",
    "            print()\n",
    "            print(vid[1])\n",
    "            cat=vid[1]    \n",
    "            k=0\n",
    "        url=\"https://www.youtube.com/watch?v=\"+vid[0]\n",
    "        html=requests.get(url)\n",
    "        data=bs(html.text,\"html.parser\")\n",
    "        title=data.findAll(\"span\",attrs={\"class\":\"watch-title\"})\n",
    "        if len(title)==0:\n",
    "            continue\n",
    "        desc=raw_html=data.findAll(\"p\",attrs={\"id\":\"eow-description\"})[0].text\n",
    "        file.append([vid,title[0]['title'],desc,vid[1]])\n",
    "        print(k,end=\" \")\n",
    "        k+=1\n",
    "    return file"
   ]
  },
  {
   "cell_type": "code",
   "execution_count": 4,
   "metadata": {},
   "outputs": [],
   "source": [
    "# video_links=get_videos_links(categories=categories)\n",
    "\n",
    "# with open(\"video_links.pkl\",\"wb\") as file:\n",
    "#     pk.dump(video_links,file)"
   ]
  },
  {
   "cell_type": "code",
   "execution_count": null,
   "metadata": {
    "scrolled": true
   },
   "outputs": [
    {
     "name": "stdout",
     "output_type": "stream",
     "text": [
      "\n",
      "Travel Blogs\n",
      "0 1 2 3 4 5 6 7 8 9 10 11 12 13 14 15 16 17 18 19 20 21 22 23 24 25 26 27 28 29 30 31 32 33 34 35 36 37 38 39 40 41 42 43 44 45 46 47 48 49 50 51 52 53 54 55 56 57 58 59 60 61 62 63 64 65 66 67 68 69 70 71 72 73 74 75 "
     ]
    }
   ],
   "source": [
    "with open(\"video_links.pkl\",\"rb\") as file:\n",
    "    video_links=pk.load(file)\n",
    "\n",
    "data=extract_data(videos_links=video_links,min_data=min_data)"
   ]
  },
  {
   "cell_type": "code",
   "execution_count": null,
   "metadata": {},
   "outputs": [],
   "source": [
    "Dataset=pd.DataFrame(data)\n",
    "Dataset.columns=[\"Video_id\",\"Title\",\"Description\",\"Category\"]\n",
    "Dataset.head()"
   ]
  },
  {
   "cell_type": "code",
   "execution_count": null,
   "metadata": {},
   "outputs": [],
   "source": [
    "Dataset.to_csv(\"Dataset_youtube.csv\")"
   ]
  },
  {
   "cell_type": "code",
   "execution_count": null,
   "metadata": {},
   "outputs": [],
   "source": []
  }
 ],
 "metadata": {
  "kernelspec": {
   "display_name": "Python 3",
   "language": "python",
   "name": "python3"
  },
  "language_info": {
   "codemirror_mode": {
    "name": "ipython",
    "version": 3
   },
   "file_extension": ".py",
   "mimetype": "text/x-python",
   "name": "python",
   "nbconvert_exporter": "python",
   "pygments_lexer": "ipython3",
   "version": "3.7.4"
  }
 },
 "nbformat": 4,
 "nbformat_minor": 2
}
